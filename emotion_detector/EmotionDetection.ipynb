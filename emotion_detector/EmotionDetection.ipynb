{
 "cells": [
  {
   "cell_type": "code",
   "execution_count": 1,
   "id": "f6135dc7",
   "metadata": {},
   "outputs": [
    {
     "name": "stdout",
     "output_type": "stream",
     "text": [
      "Mon May  1 21:05:09 2023       \n",
      "+---------------------------------------------------------------------------------------+\n",
      "| NVIDIA-SMI 531.29                 Driver Version: 531.29       CUDA Version: 12.1     |\n",
      "|-----------------------------------------+----------------------+----------------------+\n",
      "| GPU  Name                      TCC/WDDM | Bus-Id        Disp.A | Volatile Uncorr. ECC |\n",
      "| Fan  Temp  Perf            Pwr:Usage/Cap|         Memory-Usage | GPU-Util  Compute M. |\n",
      "|                                         |                      |               MIG M. |\n",
      "|=========================================+======================+======================|\n",
      "|   0  NVIDIA GeForce GTX 1650 Ti    WDDM | 00000000:01:00.0 Off |                  N/A |\n",
      "| N/A   38C    P8                3W /  N/A|      0MiB /  4096MiB |      0%      Default |\n",
      "|                                         |                      |                  N/A |\n",
      "+-----------------------------------------+----------------------+----------------------+\n",
      "                                                                                         \n",
      "+---------------------------------------------------------------------------------------+\n",
      "| Processes:                                                                            |\n",
      "|  GPU   GI   CI        PID   Type   Process name                            GPU Memory |\n",
      "|        ID   ID                                                             Usage      |\n",
      "|=======================================================================================|\n",
      "|    0   N/A  N/A     21236    C+G   ...inaries\\Win64\\EpicGamesLauncher.exe    N/A      |\n",
      "+---------------------------------------------------------------------------------------+\n"
     ]
    }
   ],
   "source": [
    "!nvidia-smi"
   ]
  },
  {
   "cell_type": "markdown",
   "id": "74a59165",
   "metadata": {},
   "source": [
    "## Code for running the model and getting emotion from webcam"
   ]
  },
  {
   "cell_type": "code",
   "execution_count": null,
   "id": "faad7e21",
   "metadata": {},
   "outputs": [
    {
     "name": "stdout",
     "output_type": "stream",
     "text": [
      "Loaded model from disk\n"
     ]
    }
   ],
   "source": [
    "import cv2\n",
    "import numpy as np\n",
    "from keras.models import model_from_json\n",
    "\n",
    "\n",
    "emotion_dict = {0: \"Angry\", 1: \"Disgusted\", 2: \"Fearful\", 3: \"Happy\", 4: \"Neutral\", 5: \"Sad\", 6: \"Surprised\"}\n",
    "\n",
    "# load json and create model\n",
    "json_file = open('emotion_model.json', 'r')\n",
    "loaded_model_json = json_file.read()\n",
    "json_file.close()\n",
    "emotion_model = model_from_json(loaded_model_json)\n",
    "\n",
    "# load weights into new model\n",
    "emotion_model.load_weights(\"emotion_model.h5\")\n",
    "print(\"Loaded model from disk\")\n",
    "\n",
    "# start the webcam feed\n",
    "cap = cv2.VideoCapture(0)\n",
    "\n",
    "# pass here your video path\n",
    "# you may download one from here : https://www.pexels.com/video/three-girls-laughing-5273028/\n",
    "# cap = cv2.VideoCapture(\"C:\\\\JustDoIt\\\\ML\\\\Sample_videos\\\\emotion_sample6.mp4\")\n",
    "\n",
    "while True:\n",
    "    # Find haar cascade to draw bounding box around face\n",
    "    ret, frame = cap.read()\n",
    "    frame = cv2.resize(frame, (1280, 720))\n",
    "    if not ret:\n",
    "        break\n",
    "    face_detector = cv2.CascadeClassifier('haarcascade_frontalface_default.xml')\n",
    "    gray_frame = cv2.cvtColor(frame, cv2.COLOR_BGR2GRAY)\n",
    "\n",
    "    # detect faces available on camera\n",
    "    num_faces = face_detector.detectMultiScale(gray_frame, scaleFactor=1.3, minNeighbors=5)\n",
    "\n",
    "    # take each face available on the camera and Preprocess it\n",
    "    for (x, y, w, h) in num_faces:\n",
    "        cv2.rectangle(frame, (x, y-50), (x+w, y+h+10), (0, 255, 0), 4)\n",
    "        roi_gray_frame = gray_frame[y:y + h, x:x + w]\n",
    "        cropped_img = np.expand_dims(np.expand_dims(cv2.resize(roi_gray_frame, (48, 48)), -1), 0)\n",
    "\n",
    "        # predict the emotions\n",
    "        emotion_prediction = emotion_model.predict(cropped_img)\n",
    "        maxindex = int(np.argmax(emotion_prediction))\n",
    "        cv2.putText(frame, emotion_dict[maxindex], (x+5, y-20), cv2.FONT_HERSHEY_SIMPLEX, 1, (255, 0, 0), 2, cv2.LINE_AA)\n",
    "\n",
    "    cv2.imshow('Emotion Detection', frame)\n",
    "    if cv2.waitKey(1) & 0xFF == ord('q'):\n",
    "        break\n",
    "\n",
    "cap.release()\n",
    "cv2.destroyAllWindows()\n"
   ]
  },
  {
   "cell_type": "code",
   "execution_count": 3,
   "id": "bd172e9d",
   "metadata": {
    "scrolled": true
   },
   "outputs": [
    {
     "name": "stdout",
     "output_type": "stream",
     "text": [
      "Requirement already satisfied: numpy in c:\\users\\dhruv\\miniconda3\\lib\\site-packages (1.23.5)\n"
     ]
    }
   ],
   "source": [
    "!pip install numpy"
   ]
  },
  {
   "cell_type": "markdown",
   "id": "3861085f",
   "metadata": {},
   "source": [
    "# Preparing the data"
   ]
  },
  {
   "cell_type": "code",
   "execution_count": 5,
   "id": "c6363b00",
   "metadata": {},
   "outputs": [],
   "source": [
    "import numpy"
   ]
  },
  {
   "cell_type": "code",
   "execution_count": 1,
   "id": "57675dc1",
   "metadata": {},
   "outputs": [],
   "source": [
    "from keras.models import Sequential\n",
    "from keras.layers import Conv2D, MaxPooling2D, Dense, Dropout, Flatten\n",
    "from keras.optimizers import Adam\n",
    "from keras.preprocessing.image import ImageDataGenerator\n",
    "import tensorflow as tf"
   ]
  },
  {
   "cell_type": "code",
   "execution_count": 2,
   "id": "09f08862",
   "metadata": {},
   "outputs": [],
   "source": [
    "# initialize data generator with rescaling\n",
    "train_data_gen = ImageDataGenerator(rescale=1./255)\n",
    "validation_data_gen = ImageDataGenerator(rescale=1./255)"
   ]
  },
  {
   "cell_type": "code",
   "execution_count": 3,
   "id": "dc0ec39d",
   "metadata": {},
   "outputs": [
    {
     "name": "stdout",
     "output_type": "stream",
     "text": [
      "Found 28709 images belonging to 7 classes.\n"
     ]
    }
   ],
   "source": [
    "# Preprocessing all test data\n",
    "train_generator = train_data_gen.flow_from_directory(\n",
    "    'train',\n",
    "    target_size = (48,48),\n",
    "    batch_size = 64,\n",
    "    color_mode = \"grayscale\",\n",
    "    class_mode = 'categorical')"
   ]
  },
  {
   "cell_type": "code",
   "execution_count": 4,
   "id": "b0648f97",
   "metadata": {},
   "outputs": [
    {
     "name": "stdout",
     "output_type": "stream",
     "text": [
      "Found 7178 images belonging to 7 classes.\n"
     ]
    }
   ],
   "source": [
    "# Preprocess all training images\n",
    "validation_generator = validation_data_gen.flow_from_directory(\n",
    "    'test',\n",
    "    target_size = (48,48), # setting input shape to 48,48\n",
    "    batch_size = 64, \n",
    "    color_mode = \"grayscale\", # setting color as 1 (grayscale)\n",
    "    class_mode = 'categorical')"
   ]
  },
  {
   "cell_type": "markdown",
   "id": "8c525f08",
   "metadata": {},
   "source": [
    "# Model 1"
   ]
  },
  {
   "cell_type": "code",
   "execution_count": null,
   "id": "2e80844a",
   "metadata": {},
   "outputs": [],
   "source": [
    "emotion_model = Sequential()\n",
    "\n",
    "emotion_model.add(Conv2D(32, kernel_size=(3,3), activation= 'relu', input_shape=(48,48,1))) #input_shape: 48,48 & grayscale\n",
    "emotion_model.add(Conv2D(64, kernel_size=(3, 3), activation='relu'))\n",
    "emotion_model.add(MaxPooling2D(pool_size=(2, 2)))\n",
    "emotion_model.add(Dropout(0.25)) # to avoid overfitting\n",
    "\n",
    "emotion_model.add(Conv2D(128, kernel_size=(3, 3), activation='relu'))\n",
    "emotion_model.add(MaxPooling2D(pool_size=(2, 2)))\n",
    "emotion_model.add(Conv2D(128, kernel_size=(3, 3), activation='relu'))\n",
    "emotion_model.add(MaxPooling2D(pool_size=(2, 2)))\n",
    "emotion_model.add(Dropout(0.25)) #to avoid overfitting\n",
    "\n",
    "emotion_model.add(Flatten())\n",
    "emotion_model.add(Dense(1024, activation='relu'))\n",
    "emotion_model.add(Dropout(0.5))\n",
    "emotion_model.add(Dense(7, activation='softmax'))\n",
    "# in the final dense layer, the 7 outputs are the 7 categories, outputted with softmax"
   ]
  },
  {
   "cell_type": "code",
   "execution_count": 11,
   "id": "fe6556a6",
   "metadata": {},
   "outputs": [],
   "source": [
    "emotion_model.compile(loss = 'categorical_crossentropy', optimizer=Adam(learning_rate=10e-5, decay=1e-6), metrics=['accuracy'])"
   ]
  },
  {
   "cell_type": "code",
   "execution_count": 12,
   "id": "df6eb4f7",
   "metadata": {
    "scrolled": false
   },
   "outputs": [
    {
     "name": "stdout",
     "output_type": "stream",
     "text": [
      "Model: \"sequential\"\n",
      "_________________________________________________________________\n",
      " Layer (type)                Output Shape              Param #   \n",
      "=================================================================\n",
      " conv2d (Conv2D)             (None, 46, 46, 32)        320       \n",
      "                                                                 \n",
      " conv2d_1 (Conv2D)           (None, 44, 44, 64)        18496     \n",
      "                                                                 \n",
      " max_pooling2d (MaxPooling2D  (None, 22, 22, 64)       0         \n",
      " )                                                               \n",
      "                                                                 \n",
      " dropout (Dropout)           (None, 22, 22, 64)        0         \n",
      "                                                                 \n",
      " conv2d_2 (Conv2D)           (None, 20, 20, 128)       73856     \n",
      "                                                                 \n",
      " max_pooling2d_1 (MaxPooling  (None, 10, 10, 128)      0         \n",
      " 2D)                                                             \n",
      "                                                                 \n",
      " conv2d_3 (Conv2D)           (None, 8, 8, 128)         147584    \n",
      "                                                                 \n",
      " max_pooling2d_2 (MaxPooling  (None, 4, 4, 128)        0         \n",
      " 2D)                                                             \n",
      "                                                                 \n",
      " dropout_1 (Dropout)         (None, 4, 4, 128)         0         \n",
      "                                                                 \n",
      " flatten (Flatten)           (None, 2048)              0         \n",
      "                                                                 \n",
      " dense (Dense)               (None, 1024)              2098176   \n",
      "                                                                 \n",
      " dropout_2 (Dropout)         (None, 1024)              0         \n",
      "                                                                 \n",
      " dense_1 (Dense)             (None, 7)                 7175      \n",
      "                                                                 \n",
      "=================================================================\n",
      "Total params: 2,345,607\n",
      "Trainable params: 2,345,607\n",
      "Non-trainable params: 0\n",
      "_________________________________________________________________\n"
     ]
    }
   ],
   "source": [
    "emotion_model.summary()"
   ]
  },
  {
   "cell_type": "code",
   "execution_count": 13,
   "id": "051466d0",
   "metadata": {},
   "outputs": [
    {
     "name": "stderr",
     "output_type": "stream",
     "text": [
      "C:\\Users\\dhruv\\AppData\\Local\\Temp\\ipykernel_17884\\3198193097.py:2: UserWarning: `Model.fit_generator` is deprecated and will be removed in a future version. Please use `Model.fit`, which supports generators.\n",
      "  emotion_model_info = emotion_model.fit_generator(\n"
     ]
    },
    {
     "name": "stdout",
     "output_type": "stream",
     "text": [
      "Epoch 1/50\n",
      "448/448 [==============================] - 253s 537ms/step - loss: 1.7998 - accuracy: 0.2615 - val_loss: 1.6872 - val_accuracy: 0.3467\n",
      "Epoch 2/50\n",
      "448/448 [==============================] - 242s 541ms/step - loss: 1.6095 - accuracy: 0.3731 - val_loss: 1.5242 - val_accuracy: 0.4145\n",
      "Epoch 3/50\n",
      "448/448 [==============================] - 105s 234ms/step - loss: 1.5064 - accuracy: 0.4176 - val_loss: 1.4420 - val_accuracy: 0.4474\n",
      "Epoch 4/50\n",
      "448/448 [==============================] - 13s 29ms/step - loss: 1.4350 - accuracy: 0.4507 - val_loss: 1.4037 - val_accuracy: 0.4646\n",
      "Epoch 5/50\n",
      "448/448 [==============================] - 15s 34ms/step - loss: 1.3730 - accuracy: 0.4778 - val_loss: 1.3434 - val_accuracy: 0.4854\n",
      "Epoch 6/50\n",
      "448/448 [==============================] - 12s 27ms/step - loss: 1.3304 - accuracy: 0.4954 - val_loss: 1.3052 - val_accuracy: 0.5045\n",
      "Epoch 7/50\n",
      "448/448 [==============================] - 15s 33ms/step - loss: 1.2873 - accuracy: 0.5101 - val_loss: 1.2632 - val_accuracy: 0.5146\n",
      "Epoch 8/50\n",
      "448/448 [==============================] - 14s 30ms/step - loss: 1.2486 - accuracy: 0.5286 - val_loss: 1.2391 - val_accuracy: 0.5283\n",
      "Epoch 9/50\n",
      "448/448 [==============================] - 12s 26ms/step - loss: 1.2196 - accuracy: 0.5393 - val_loss: 1.2242 - val_accuracy: 0.5338\n",
      "Epoch 10/50\n",
      "448/448 [==============================] - 13s 29ms/step - loss: 1.1852 - accuracy: 0.5530 - val_loss: 1.1957 - val_accuracy: 0.5420\n",
      "Epoch 11/50\n",
      "448/448 [==============================] - 13s 29ms/step - loss: 1.1561 - accuracy: 0.5645 - val_loss: 1.1769 - val_accuracy: 0.5516\n",
      "Epoch 12/50\n",
      "448/448 [==============================] - 13s 29ms/step - loss: 1.1281 - accuracy: 0.5760 - val_loss: 1.1606 - val_accuracy: 0.5610\n",
      "Epoch 13/50\n",
      "448/448 [==============================] - 12s 26ms/step - loss: 1.1048 - accuracy: 0.5870 - val_loss: 1.1463 - val_accuracy: 0.5628\n",
      "Epoch 14/50\n",
      "448/448 [==============================] - 14s 31ms/step - loss: 1.0793 - accuracy: 0.5949 - val_loss: 1.1301 - val_accuracy: 0.5714\n",
      "Epoch 15/50\n",
      "448/448 [==============================] - 14s 31ms/step - loss: 1.0579 - accuracy: 0.6066 - val_loss: 1.1332 - val_accuracy: 0.5714\n",
      "Epoch 16/50\n",
      "448/448 [==============================] - 16s 35ms/step - loss: 1.0341 - accuracy: 0.6149 - val_loss: 1.1128 - val_accuracy: 0.5801\n",
      "Epoch 17/50\n",
      "448/448 [==============================] - 12s 27ms/step - loss: 1.0087 - accuracy: 0.6236 - val_loss: 1.1063 - val_accuracy: 0.5781\n",
      "Epoch 18/50\n",
      "448/448 [==============================] - 12s 27ms/step - loss: 0.9892 - accuracy: 0.6328 - val_loss: 1.0960 - val_accuracy: 0.5866\n",
      "Epoch 19/50\n",
      "448/448 [==============================] - 13s 29ms/step - loss: 0.9635 - accuracy: 0.6426 - val_loss: 1.0974 - val_accuracy: 0.5875\n",
      "Epoch 20/50\n",
      "448/448 [==============================] - 13s 29ms/step - loss: 0.9400 - accuracy: 0.6538 - val_loss: 1.0825 - val_accuracy: 0.5947\n",
      "Epoch 21/50\n",
      "448/448 [==============================] - 154s 344ms/step - loss: 0.9196 - accuracy: 0.6614 - val_loss: 1.0843 - val_accuracy: 0.5992\n",
      "Epoch 22/50\n",
      "448/448 [==============================] - 13s 29ms/step - loss: 0.8929 - accuracy: 0.6700 - val_loss: 1.0642 - val_accuracy: 0.6066\n",
      "Epoch 23/50\n",
      "448/448 [==============================] - 12s 26ms/step - loss: 0.8702 - accuracy: 0.6821 - val_loss: 1.0729 - val_accuracy: 0.6032\n",
      "Epoch 24/50\n",
      "448/448 [==============================] - 12s 27ms/step - loss: 0.8447 - accuracy: 0.6920 - val_loss: 1.0655 - val_accuracy: 0.6052\n",
      "Epoch 25/50\n",
      "448/448 [==============================] - 12s 26ms/step - loss: 0.8260 - accuracy: 0.6975 - val_loss: 1.0694 - val_accuracy: 0.6070\n",
      "Epoch 26/50\n",
      "448/448 [==============================] - 11s 25ms/step - loss: 0.8024 - accuracy: 0.7065 - val_loss: 1.0672 - val_accuracy: 0.6057\n",
      "Epoch 27/50\n",
      "448/448 [==============================] - 13s 28ms/step - loss: 0.7795 - accuracy: 0.7147 - val_loss: 1.0619 - val_accuracy: 0.6085\n",
      "Epoch 28/50\n",
      "448/448 [==============================] - 13s 29ms/step - loss: 0.7542 - accuracy: 0.7239 - val_loss: 1.0788 - val_accuracy: 0.6113\n",
      "Epoch 29/50\n",
      "448/448 [==============================] - 12s 27ms/step - loss: 0.7316 - accuracy: 0.7323 - val_loss: 1.0641 - val_accuracy: 0.6117\n",
      "Epoch 30/50\n",
      "448/448 [==============================] - 12s 27ms/step - loss: 0.7073 - accuracy: 0.7451 - val_loss: 1.0616 - val_accuracy: 0.6109\n",
      "Epoch 31/50\n",
      "448/448 [==============================] - 12s 26ms/step - loss: 0.6933 - accuracy: 0.7488 - val_loss: 1.0740 - val_accuracy: 0.6162\n",
      "Epoch 32/50\n",
      "448/448 [==============================] - 12s 26ms/step - loss: 0.6640 - accuracy: 0.7574 - val_loss: 1.0691 - val_accuracy: 0.6105\n",
      "Epoch 33/50\n",
      "448/448 [==============================] - 12s 26ms/step - loss: 0.6422 - accuracy: 0.7658 - val_loss: 1.0876 - val_accuracy: 0.6212\n",
      "Epoch 34/50\n",
      "448/448 [==============================] - 12s 27ms/step - loss: 0.6310 - accuracy: 0.7739 - val_loss: 1.0786 - val_accuracy: 0.6191\n",
      "Epoch 35/50\n",
      "448/448 [==============================] - 12s 26ms/step - loss: 0.6091 - accuracy: 0.7796 - val_loss: 1.0898 - val_accuracy: 0.6211\n",
      "Epoch 36/50\n",
      "448/448 [==============================] - 12s 27ms/step - loss: 0.5836 - accuracy: 0.7884 - val_loss: 1.0782 - val_accuracy: 0.6205\n",
      "Epoch 37/50\n",
      "448/448 [==============================] - 12s 26ms/step - loss: 0.5649 - accuracy: 0.7946 - val_loss: 1.0933 - val_accuracy: 0.6186\n",
      "Epoch 38/50\n",
      "448/448 [==============================] - 13s 29ms/step - loss: 0.5440 - accuracy: 0.8031 - val_loss: 1.0904 - val_accuracy: 0.6218\n",
      "Epoch 39/50\n",
      "448/448 [==============================] - 12s 26ms/step - loss: 0.5201 - accuracy: 0.8132 - val_loss: 1.1041 - val_accuracy: 0.6222\n",
      "Epoch 40/50\n",
      "448/448 [==============================] - 12s 26ms/step - loss: 0.5057 - accuracy: 0.8183 - val_loss: 1.1173 - val_accuracy: 0.6191\n",
      "Epoch 41/50\n",
      "448/448 [==============================] - 12s 26ms/step - loss: 0.4953 - accuracy: 0.8214 - val_loss: 1.1215 - val_accuracy: 0.6237\n",
      "Epoch 42/50\n",
      "448/448 [==============================] - 12s 27ms/step - loss: 0.4797 - accuracy: 0.8270 - val_loss: 1.1316 - val_accuracy: 0.6257\n",
      "Epoch 43/50\n",
      "448/448 [==============================] - 12s 27ms/step - loss: 0.4568 - accuracy: 0.8341 - val_loss: 1.1424 - val_accuracy: 0.6229\n",
      "Epoch 44/50\n",
      "448/448 [==============================] - 13s 29ms/step - loss: 0.4501 - accuracy: 0.8399 - val_loss: 1.1334 - val_accuracy: 0.6235\n",
      "Epoch 45/50\n",
      "448/448 [==============================] - 12s 26ms/step - loss: 0.4311 - accuracy: 0.8431 - val_loss: 1.1729 - val_accuracy: 0.6232\n",
      "Epoch 46/50\n",
      "448/448 [==============================] - 12s 26ms/step - loss: 0.4148 - accuracy: 0.8494 - val_loss: 1.1543 - val_accuracy: 0.6296\n",
      "Epoch 47/50\n",
      "448/448 [==============================] - 12s 26ms/step - loss: 0.3986 - accuracy: 0.8560 - val_loss: 1.1643 - val_accuracy: 0.6242\n",
      "Epoch 48/50\n",
      "448/448 [==============================] - 12s 27ms/step - loss: 0.3944 - accuracy: 0.8564 - val_loss: 1.1726 - val_accuracy: 0.6289\n",
      "Epoch 49/50\n",
      "448/448 [==============================] - 12s 26ms/step - loss: 0.3780 - accuracy: 0.8643 - val_loss: 1.1921 - val_accuracy: 0.6268\n",
      "Epoch 50/50\n",
      "448/448 [==============================] - 12s 27ms/step - loss: 0.3650 - accuracy: 0.8685 - val_loss: 1.2061 - val_accuracy: 0.6272\n"
     ]
    }
   ],
   "source": [
    "# Train the neural network/model\n",
    "emotion_model_info = emotion_model.fit_generator(\n",
    "        train_generator,\n",
    "        steps_per_epoch=28709 // 64,\n",
    "        epochs=50,\n",
    "        validation_data=validation_generator,\n",
    "        validation_steps=7178 // 64)"
   ]
  },
  {
   "cell_type": "code",
   "execution_count": 66,
   "id": "41f7a14a",
   "metadata": {},
   "outputs": [
    {
     "ename": "NameError",
     "evalue": "name 'emotion_model_info' is not defined",
     "output_type": "error",
     "traceback": [
      "\u001b[1;31m---------------------------------------------------------------------------\u001b[0m",
      "\u001b[1;31mNameError\u001b[0m                                 Traceback (most recent call last)",
      "Cell \u001b[1;32mIn[66], line 1\u001b[0m\n\u001b[1;32m----> 1\u001b[0m loss \u001b[38;5;241m=\u001b[39m \u001b[43memotion_model_info\u001b[49m\u001b[38;5;241m.\u001b[39mhistory[\u001b[38;5;124m'\u001b[39m\u001b[38;5;124mloss\u001b[39m\u001b[38;5;124m'\u001b[39m]\n\u001b[0;32m      2\u001b[0m val_loss \u001b[38;5;241m=\u001b[39m emotion_model_info\u001b[38;5;241m.\u001b[39mhistory[\u001b[38;5;124m'\u001b[39m\u001b[38;5;124mval_loss\u001b[39m\u001b[38;5;124m'\u001b[39m]\n\u001b[0;32m      3\u001b[0m acc \u001b[38;5;241m=\u001b[39m emotion_model_info\u001b[38;5;241m.\u001b[39mhistory[\u001b[38;5;124m'\u001b[39m\u001b[38;5;124maccuracy\u001b[39m\u001b[38;5;124m'\u001b[39m]\n",
      "\u001b[1;31mNameError\u001b[0m: name 'emotion_model_info' is not defined"
     ]
    }
   ],
   "source": [
    "loss = emotion_model_info.history['loss']\n",
    "val_loss = emotion_model_info.history['val_loss']\n",
    "acc = emotion_model_info.history['accuracy']\n",
    "val_acc = emotion_model_info.history['val_accuracy']\n",
    "\n",
    "# Plot the training and validation loss curves\n",
    "plt.plot(loss, label='Training loss')\n",
    "plt.plot(val_loss, label='Validation loss')\n",
    "plt.xlabel('Epoch')\n",
    "plt.ylabel('Loss')\n",
    "plt.legend()\n",
    "plt.show()\n",
    "\n",
    "# Plot the training and validation accuracy curves\n",
    "plt.plot(acc, label='Training accuracy')\n",
    "plt.plot(val_acc, label='Validation accuracy')\n",
    "plt.xlabel('Epoch')\n",
    "plt.ylabel('Accuracy')\n",
    "plt.legend()\n",
    "plt.show()"
   ]
  },
  {
   "cell_type": "code",
   "execution_count": null,
   "id": "997176ab",
   "metadata": {},
   "outputs": [],
   "source": [
    "# saving the model\n",
    "model_json = emotion_model.to_json()\n",
    "\n",
    "with open(\"local_emotion_model.json\",\"w\") as json_file:\n",
    "  json_file.write(model_json)\n",
    "\n",
    "\n",
    "# save trained model weights in .h5 file\n",
    "emotion_model.save_weights('local_emotion_model.h5')"
   ]
  },
  {
   "cell_type": "markdown",
   "id": "e74c2352",
   "metadata": {},
   "source": [
    "# Model 2"
   ]
  },
  {
   "cell_type": "code",
   "execution_count": 42,
   "id": "3c4cc007",
   "metadata": {},
   "outputs": [],
   "source": [
    "from tensorflow.keras.layers import Input, Conv2D, BatchNormalization, MaxPooling2D, Dropout, Flatten, Dense\n",
    "from tensorflow.keras.models import Model"
   ]
  },
  {
   "cell_type": "code",
   "execution_count": 43,
   "id": "004d8004",
   "metadata": {},
   "outputs": [],
   "source": [
    "# shared parameters\n",
    "params = {'kernel_size': 3, 'activation':'relu', 'padding':'same'}\n",
    "\n",
    "# function for convolutional block\n",
    "def conv_block(x, filters, pool):\n",
    "    x = Conv2D(filters, **params)(x)\n",
    "    x = BatchNormalization()(x)\n",
    "    x = Conv2D(filters, **params)(x)\n",
    "    x = BatchNormalization()(x)\n",
    "    x = MaxPooling2D(pool_size = (pool,pool))(x)\n",
    "    x = Dropout(0.25)(x)\n",
    "    \n",
    "    return x "
   ]
  },
  {
   "cell_type": "code",
   "execution_count": 57,
   "id": "47c97bab",
   "metadata": {
    "scrolled": true
   },
   "outputs": [
    {
     "name": "stdout",
     "output_type": "stream",
     "text": [
      "KerasTensor(type_spec=TensorSpec(shape=(None, 24, 24, 64), dtype=tf.float32, name=None), name='dropout_96/Identity:0', description=\"created by layer 'dropout_96'\")\n",
      "KerasTensor(type_spec=TensorSpec(shape=(None, 12, 12, 128), dtype=tf.float32, name=None), name='dropout_97/Identity:0', description=\"created by layer 'dropout_97'\")\n",
      "KerasTensor(type_spec=TensorSpec(shape=(None, 6, 6, 256), dtype=tf.float32, name=None), name='dropout_98/Identity:0', description=\"created by layer 'dropout_98'\")\n",
      "KerasTensor(type_spec=TensorSpec(shape=(None, 3, 3, 512), dtype=tf.float32, name=None), name='dropout_99/Identity:0', description=\"created by layer 'dropout_99'\")\n",
      "KerasTensor(type_spec=TensorSpec(shape=(None, 1, 1, 512), dtype=tf.float32, name=None), name='dropout_100/Identity:0', description=\"created by layer 'dropout_100'\")\n",
      "KerasTensor(type_spec=TensorSpec(shape=(None, 1, 1, 1024), dtype=tf.float32, name=None), name='dropout_101/Identity:0', description=\"created by layer 'dropout_101'\")\n",
      "KerasTensor(type_spec=TensorSpec(shape=(None, 1, 1, 1024), dtype=tf.float32, name=None), name='dropout_102/Identity:0', description=\"created by layer 'dropout_102'\")\n"
     ]
    }
   ],
   "source": [
    "# Creating a model using the conv_block\n",
    "visible = Input(shape=(48,48,1), name= 'input')\n",
    "\n",
    "x = conv_block(visible, 64, 2)\n",
    "\n",
    "x = conv_block(x, 128, 2)\n",
    "\n",
    "x = conv_block(x, 256, 2)\n",
    "\n",
    "x = conv_block(x, 512, 2)\n",
    "\n",
    "x = conv_block(x, 512, 2)\n",
    "\n",
    "x = conv_block(x, 1024, 1)\n",
    "\n",
    "x = conv_block(x, 1024, 1)\n",
    "\n",
    "\n",
    "# Adding final layer\n",
    "x = Flatten()(x)\n",
    "x = Dense(4096, activation='relu')(x)\n",
    "x = Dropout(0.5)(x)\n",
    "x = Dense(4096, activation='relu')(x)\n",
    "x = Dropout(0.5)(x)\n",
    "output = Dense(7, activation='softmax')(x)\n",
    "\n",
    "emoticon_model = Model(inputs=visible, outputs=output)"
   ]
  },
  {
   "cell_type": "code",
   "execution_count": 58,
   "id": "a7b3cfbc",
   "metadata": {
    "scrolled": false
   },
   "outputs": [
    {
     "name": "stdout",
     "output_type": "stream",
     "text": [
      "Model: \"model_3\"\n",
      "_________________________________________________________________\n",
      " Layer (type)                Output Shape              Param #   \n",
      "=================================================================\n",
      " input (InputLayer)          [(None, 48, 48, 1)]       0         \n",
      "                                                                 \n",
      " conv2d_216 (Conv2D)         (None, 48, 48, 64)        640       \n",
      "                                                                 \n",
      " batch_normalization_153 (Ba  (None, 48, 48, 64)       256       \n",
      " tchNormalization)                                               \n",
      "                                                                 \n",
      " conv2d_217 (Conv2D)         (None, 48, 48, 64)        36928     \n",
      "                                                                 \n",
      " batch_normalization_154 (Ba  (None, 48, 48, 64)       256       \n",
      " tchNormalization)                                               \n",
      "                                                                 \n",
      " max_pooling2d_107 (MaxPooli  (None, 24, 24, 64)       0         \n",
      " ng2D)                                                           \n",
      "                                                                 \n",
      " dropout_96 (Dropout)        (None, 24, 24, 64)        0         \n",
      "                                                                 \n",
      " conv2d_218 (Conv2D)         (None, 24, 24, 128)       73856     \n",
      "                                                                 \n",
      " batch_normalization_155 (Ba  (None, 24, 24, 128)      512       \n",
      " tchNormalization)                                               \n",
      "                                                                 \n",
      " conv2d_219 (Conv2D)         (None, 24, 24, 128)       147584    \n",
      "                                                                 \n",
      " batch_normalization_156 (Ba  (None, 24, 24, 128)      512       \n",
      " tchNormalization)                                               \n",
      "                                                                 \n",
      " max_pooling2d_108 (MaxPooli  (None, 12, 12, 128)      0         \n",
      " ng2D)                                                           \n",
      "                                                                 \n",
      " dropout_97 (Dropout)        (None, 12, 12, 128)       0         \n",
      "                                                                 \n",
      " conv2d_220 (Conv2D)         (None, 12, 12, 256)       295168    \n",
      "                                                                 \n",
      " batch_normalization_157 (Ba  (None, 12, 12, 256)      1024      \n",
      " tchNormalization)                                               \n",
      "                                                                 \n",
      " conv2d_221 (Conv2D)         (None, 12, 12, 256)       590080    \n",
      "                                                                 \n",
      " batch_normalization_158 (Ba  (None, 12, 12, 256)      1024      \n",
      " tchNormalization)                                               \n",
      "                                                                 \n",
      " max_pooling2d_109 (MaxPooli  (None, 6, 6, 256)        0         \n",
      " ng2D)                                                           \n",
      "                                                                 \n",
      " dropout_98 (Dropout)        (None, 6, 6, 256)         0         \n",
      "                                                                 \n",
      " conv2d_222 (Conv2D)         (None, 6, 6, 512)         1180160   \n",
      "                                                                 \n",
      " batch_normalization_159 (Ba  (None, 6, 6, 512)        2048      \n",
      " tchNormalization)                                               \n",
      "                                                                 \n",
      " conv2d_223 (Conv2D)         (None, 6, 6, 512)         2359808   \n",
      "                                                                 \n",
      " batch_normalization_160 (Ba  (None, 6, 6, 512)        2048      \n",
      " tchNormalization)                                               \n",
      "                                                                 \n",
      " max_pooling2d_110 (MaxPooli  (None, 3, 3, 512)        0         \n",
      " ng2D)                                                           \n",
      "                                                                 \n",
      " dropout_99 (Dropout)        (None, 3, 3, 512)         0         \n",
      "                                                                 \n",
      " conv2d_224 (Conv2D)         (None, 3, 3, 512)         2359808   \n",
      "                                                                 \n",
      " batch_normalization_161 (Ba  (None, 3, 3, 512)        2048      \n",
      " tchNormalization)                                               \n",
      "                                                                 \n",
      " conv2d_225 (Conv2D)         (None, 3, 3, 512)         2359808   \n",
      "                                                                 \n",
      " batch_normalization_162 (Ba  (None, 3, 3, 512)        2048      \n",
      " tchNormalization)                                               \n",
      "                                                                 \n",
      " max_pooling2d_111 (MaxPooli  (None, 1, 1, 512)        0         \n",
      " ng2D)                                                           \n",
      "                                                                 \n",
      " dropout_100 (Dropout)       (None, 1, 1, 512)         0         \n",
      "                                                                 \n",
      " conv2d_226 (Conv2D)         (None, 1, 1, 1024)        4719616   \n",
      "                                                                 \n",
      " batch_normalization_163 (Ba  (None, 1, 1, 1024)       4096      \n",
      " tchNormalization)                                               \n",
      "                                                                 \n",
      " conv2d_227 (Conv2D)         (None, 1, 1, 1024)        9438208   \n",
      "                                                                 \n",
      " batch_normalization_164 (Ba  (None, 1, 1, 1024)       4096      \n",
      " tchNormalization)                                               \n",
      "                                                                 \n",
      " max_pooling2d_112 (MaxPooli  (None, 1, 1, 1024)       0         \n",
      " ng2D)                                                           \n",
      "                                                                 \n",
      " dropout_101 (Dropout)       (None, 1, 1, 1024)        0         \n",
      "                                                                 \n",
      " conv2d_228 (Conv2D)         (None, 1, 1, 1024)        9438208   \n",
      "                                                                 \n",
      " batch_normalization_165 (Ba  (None, 1, 1, 1024)       4096      \n",
      " tchNormalization)                                               \n",
      "                                                                 \n",
      " conv2d_229 (Conv2D)         (None, 1, 1, 1024)        9438208   \n",
      "                                                                 \n",
      " batch_normalization_166 (Ba  (None, 1, 1, 1024)       4096      \n",
      " tchNormalization)                                               \n",
      "                                                                 \n",
      " max_pooling2d_113 (MaxPooli  (None, 1, 1, 1024)       0         \n",
      " ng2D)                                                           \n",
      "                                                                 \n",
      " dropout_102 (Dropout)       (None, 1, 1, 1024)        0         \n",
      "                                                                 \n",
      " flatten_21 (Flatten)        (None, 1024)              0         \n",
      "                                                                 \n",
      " dense_50 (Dense)            (None, 4096)              4198400   \n",
      "                                                                 \n",
      " dropout_103 (Dropout)       (None, 4096)              0         \n",
      "                                                                 \n",
      " dense_51 (Dense)            (None, 4096)              16781312  \n",
      "                                                                 \n",
      " dropout_104 (Dropout)       (None, 4096)              0         \n",
      "                                                                 \n",
      " dense_52 (Dense)            (None, 7)                 28679     \n",
      "                                                                 \n",
      "=================================================================\n",
      "Total params: 63,474,631\n",
      "Trainable params: 63,460,551\n",
      "Non-trainable params: 14,080\n"
     ]
    },
    {
     "name": "stdout",
     "output_type": "stream",
     "text": [
      "_________________________________________________________________\n"
     ]
    }
   ],
   "source": [
    "emoticon_model.summary()"
   ]
  },
  {
   "cell_type": "code",
   "execution_count": 59,
   "id": "727808e6",
   "metadata": {},
   "outputs": [],
   "source": [
    "emoticon_model.compile(loss = 'categorical_crossentropy', optimizer=tf.keras.optimizers.Adamax(learning_rate=2e-3, decay=1e-6), metrics=['accuracy'])"
   ]
  },
  {
   "cell_type": "code",
   "execution_count": 62,
   "id": "5e14ccea",
   "metadata": {},
   "outputs": [
    {
     "name": "stdout",
     "output_type": "stream",
     "text": [
      "Epoch 1/50\n",
      "448/448 [==============================] - 250s 513ms/step - loss: 2.1240 - accuracy: 0.2388 - val_loss: 1.8378 - val_accuracy: 0.2415\n",
      "Epoch 2/50\n",
      "448/448 [==============================] - 209s 467ms/step - loss: 1.7300 - accuracy: 0.2968 - val_loss: 1.6396 - val_accuracy: 0.3518\n",
      "Epoch 3/50\n",
      "448/448 [==============================] - 77s 173ms/step - loss: 1.5797 - accuracy: 0.3836 - val_loss: 1.4684 - val_accuracy: 0.4212\n",
      "Epoch 4/50\n",
      "448/448 [==============================] - 78s 174ms/step - loss: 1.4528 - accuracy: 0.4403 - val_loss: 1.6012 - val_accuracy: 0.4651\n",
      "Epoch 5/50\n",
      "448/448 [==============================] - 78s 174ms/step - loss: 1.3583 - accuracy: 0.4746 - val_loss: 1.3646 - val_accuracy: 0.5028\n",
      "Epoch 6/50\n",
      "448/448 [==============================] - 78s 175ms/step - loss: 1.3019 - accuracy: 0.5070 - val_loss: 1.2562 - val_accuracy: 0.5194\n",
      "Epoch 7/50\n",
      "448/448 [==============================] - 78s 174ms/step - loss: 1.2503 - accuracy: 0.5352 - val_loss: 1.2275 - val_accuracy: 0.5438\n",
      "Epoch 8/50\n",
      "448/448 [==============================] - 78s 174ms/step - loss: 1.1920 - accuracy: 0.5575 - val_loss: 1.3001 - val_accuracy: 0.5166\n",
      "Epoch 9/50\n",
      "448/448 [==============================] - 79s 176ms/step - loss: 1.1317 - accuracy: 0.5859 - val_loss: 1.1448 - val_accuracy: 0.5767\n",
      "Epoch 10/50\n",
      "448/448 [==============================] - 78s 175ms/step - loss: 1.0139 - accuracy: 0.6303 - val_loss: 1.1373 - val_accuracy: 0.6092\n",
      "Epoch 11/50\n",
      "448/448 [==============================] - 78s 174ms/step - loss: 0.9500 - accuracy: 0.6572 - val_loss: 1.1570 - val_accuracy: 0.5963\n",
      "Epoch 12/50\n",
      "448/448 [==============================] - 78s 174ms/step - loss: 0.9272 - accuracy: 0.6710 - val_loss: 1.2892 - val_accuracy: 0.6123\n",
      "Epoch 13/50\n",
      "448/448 [==============================] - 78s 174ms/step - loss: 0.8291 - accuracy: 0.7052 - val_loss: 1.1581 - val_accuracy: 0.6092\n",
      "Epoch 14/50\n",
      "448/448 [==============================] - 78s 174ms/step - loss: 0.7643 - accuracy: 0.7312 - val_loss: 1.1247 - val_accuracy: 0.6215\n",
      "Epoch 15/50\n",
      "448/448 [==============================] - 78s 174ms/step - loss: 0.6692 - accuracy: 0.7699 - val_loss: 1.2762 - val_accuracy: 0.6293\n",
      "Epoch 16/50\n",
      "448/448 [==============================] - 79s 176ms/step - loss: 0.6353 - accuracy: 0.7829 - val_loss: 1.1718 - val_accuracy: 0.6441\n",
      "Epoch 17/50\n",
      "448/448 [==============================] - 79s 175ms/step - loss: 0.5777 - accuracy: 0.8064 - val_loss: 1.2771 - val_accuracy: 0.6277\n",
      "Epoch 18/50\n",
      "448/448 [==============================] - 79s 176ms/step - loss: 0.4605 - accuracy: 0.8474 - val_loss: 1.2338 - val_accuracy: 0.6359\n",
      "Epoch 19/50\n",
      "448/448 [==============================] - 78s 175ms/step - loss: 0.4267 - accuracy: 0.8573 - val_loss: 1.4149 - val_accuracy: 0.6476\n",
      "Epoch 20/50\n",
      "448/448 [==============================] - 79s 176ms/step - loss: 0.4520 - accuracy: 0.8561 - val_loss: 1.9328 - val_accuracy: 0.6073\n",
      "Epoch 21/50\n",
      "448/448 [==============================] - 79s 175ms/step - loss: 0.3337 - accuracy: 0.8881 - val_loss: 1.3817 - val_accuracy: 0.6479\n",
      "Epoch 22/50\n",
      "448/448 [==============================] - 78s 175ms/step - loss: 0.3295 - accuracy: 0.8953 - val_loss: 1.4808 - val_accuracy: 0.6426\n",
      "Epoch 23/50\n",
      "448/448 [==============================] - 266s 594ms/step - loss: 0.2741 - accuracy: 0.9125 - val_loss: 1.5478 - val_accuracy: 0.6398\n",
      "Epoch 24/50\n",
      "448/448 [==============================] - 150s 334ms/step - loss: 0.2826 - accuracy: 0.9088 - val_loss: 1.6459 - val_accuracy: 0.6346\n",
      "Epoch 25/50\n",
      "448/448 [==============================] - 79s 175ms/step - loss: 0.3177 - accuracy: 0.8956 - val_loss: 1.4679 - val_accuracy: 0.6328\n",
      "Epoch 26/50\n",
      "448/448 [==============================] - 78s 174ms/step - loss: 0.3367 - accuracy: 0.8928 - val_loss: 1.5873 - val_accuracy: 0.6331\n",
      "Epoch 27/50\n",
      "448/448 [==============================] - 79s 175ms/step - loss: 0.2508 - accuracy: 0.9192 - val_loss: 1.6125 - val_accuracy: 0.6465\n",
      "Epoch 28/50\n",
      "448/448 [==============================] - 78s 175ms/step - loss: 0.2156 - accuracy: 0.9312 - val_loss: 1.6189 - val_accuracy: 0.6420\n",
      "Epoch 29/50\n",
      "448/448 [==============================] - 79s 177ms/step - loss: 0.2094 - accuracy: 0.9354 - val_loss: 1.7263 - val_accuracy: 0.6448\n",
      "Epoch 30/50\n",
      "448/448 [==============================] - 79s 175ms/step - loss: 0.1973 - accuracy: 0.9389 - val_loss: 1.9087 - val_accuracy: 0.6547\n",
      "Epoch 31/50\n",
      "448/448 [==============================] - 79s 176ms/step - loss: 0.1611 - accuracy: 0.9484 - val_loss: 2.2770 - val_accuracy: 0.6512\n",
      "Epoch 32/50\n",
      "448/448 [==============================] - 79s 177ms/step - loss: 0.1822 - accuracy: 0.9453 - val_loss: 1.9563 - val_accuracy: 0.6396\n",
      "Epoch 33/50\n",
      "448/448 [==============================] - 79s 176ms/step - loss: 0.1313 - accuracy: 0.9577 - val_loss: 1.8332 - val_accuracy: 0.6403\n",
      "Epoch 34/50\n",
      "448/448 [==============================] - 78s 175ms/step - loss: 0.1411 - accuracy: 0.9555 - val_loss: 1.7305 - val_accuracy: 0.6466\n",
      "Epoch 35/50\n",
      "448/448 [==============================] - 79s 176ms/step - loss: 0.1562 - accuracy: 0.9500 - val_loss: 1.9349 - val_accuracy: 0.6437\n",
      "Epoch 36/50\n",
      "448/448 [==============================] - 79s 176ms/step - loss: 0.1976 - accuracy: 0.9381 - val_loss: 1.5654 - val_accuracy: 0.6272\n",
      "Epoch 37/50\n",
      "448/448 [==============================] - 78s 175ms/step - loss: 0.2490 - accuracy: 0.9206 - val_loss: 1.6577 - val_accuracy: 0.6408\n",
      "Epoch 38/50\n",
      "448/448 [==============================] - 79s 175ms/step - loss: 0.2154 - accuracy: 0.9306 - val_loss: 1.9450 - val_accuracy: 0.6394\n",
      "Epoch 39/50\n",
      "448/448 [==============================] - 79s 176ms/step - loss: 0.1536 - accuracy: 0.9528 - val_loss: 1.8058 - val_accuracy: 0.6498\n",
      "Epoch 40/50\n",
      "448/448 [==============================] - 79s 176ms/step - loss: 0.1169 - accuracy: 0.9630 - val_loss: 1.8832 - val_accuracy: 0.6539\n",
      "Epoch 41/50\n",
      "448/448 [==============================] - 79s 176ms/step - loss: 0.0964 - accuracy: 0.9702 - val_loss: 1.7198 - val_accuracy: 0.6556\n",
      "Epoch 42/50\n",
      "448/448 [==============================] - 79s 176ms/step - loss: 0.1024 - accuracy: 0.9682 - val_loss: 1.8104 - val_accuracy: 0.6493\n",
      "Epoch 43/50\n",
      "448/448 [==============================] - 78s 175ms/step - loss: 0.1225 - accuracy: 0.9618 - val_loss: 2.2106 - val_accuracy: 0.6314\n",
      "Epoch 44/50\n",
      "448/448 [==============================] - 78s 174ms/step - loss: 0.1458 - accuracy: 0.9557 - val_loss: 2.0818 - val_accuracy: 0.6487\n",
      "Epoch 45/50\n",
      "448/448 [==============================] - 78s 175ms/step - loss: 0.1291 - accuracy: 0.9594 - val_loss: 2.0569 - val_accuracy: 0.6443\n",
      "Epoch 46/50\n",
      "448/448 [==============================] - 78s 174ms/step - loss: 0.1577 - accuracy: 0.9501 - val_loss: 1.9496 - val_accuracy: 0.6403\n",
      "Epoch 47/50\n",
      "448/448 [==============================] - 78s 174ms/step - loss: 0.2417 - accuracy: 0.9379 - val_loss: 2.9930 - val_accuracy: 0.6297\n",
      "Epoch 48/50\n",
      "448/448 [==============================] - 78s 174ms/step - loss: 0.1451 - accuracy: 0.9540 - val_loss: 1.8094 - val_accuracy: 0.6472\n",
      "Epoch 49/50\n",
      "448/448 [==============================] - 78s 175ms/step - loss: 0.1034 - accuracy: 0.9675 - val_loss: 1.9642 - val_accuracy: 0.6540\n",
      "Epoch 50/50\n",
      "448/448 [==============================] - 78s 175ms/step - loss: 0.1119 - accuracy: 0.9647 - val_loss: 2.0478 - val_accuracy: 0.6395\n"
     ]
    }
   ],
   "source": [
    "emoticon_model_history = emoticon_model.fit(\n",
    "        train_generator,\n",
    "        steps_per_epoch=28709 // 64,\n",
    "        epochs=50,\n",
    "        validation_data=validation_generator,\n",
    "        validation_steps=7178 // 64\n",
    "        )\n"
   ]
  },
  {
   "cell_type": "code",
   "execution_count": 67,
   "id": "2b0b6ffc",
   "metadata": {},
   "outputs": [],
   "source": [
    "# The model seems to be overfitting, apply regularization and increase dropoutss and reduce model complexity.\n",
    "\n",
    "# saving the model\n",
    "model_json = emoticon_model.to_json()\n",
    "\n",
    "with open(\"local_emoticon_model.json\",\"w\") as json_file:\n",
    "  json_file.write(model_json)\n",
    "\n",
    "\n",
    "# save trained model weights in .h5 file\n",
    "emoticon_model.save_weights('local_emoticon_model.h5')"
   ]
  },
  {
   "cell_type": "markdown",
   "id": "361cac43",
   "metadata": {},
   "source": [
    "# Checking the metrics"
   ]
  },
  {
   "cell_type": "code",
   "execution_count": 65,
   "id": "ffa5b0e0",
   "metadata": {},
   "outputs": [
    {
     "data": {
      "image/png": "[encoded data removed]",
      "text/plain": [
       "<Figure size 640x480 with 1 Axes>"
      ]
     },
     "metadata": {},
     "output_type": "display_data"
    },
    {
     "data": {
      "image/png": "[encoded data removed]",
      "text/plain": [
       "<Figure size 640x480 with 1 Axes>"
      ]
     },
     "metadata": {},
     "output_type": "display_data"
    }
   ],
   "source": [
    "loss = emoticon_model_history.history['loss']\n",
    "val_loss = emoticon_model_history.history['val_loss']\n",
    "acc = emoticon_model_history.history['accuracy']\n",
    "val_acc = emoticon_model_history.history['val_accuracy']\n",
    "\n",
    "# Plot the training and validation loss curves\n",
    "plt.plot(loss, label='Training loss')\n",
    "plt.plot(val_loss, label='Validation loss')\n",
    "plt.xlabel('Epoch')\n",
    "plt.ylabel('Loss')\n",
    "plt.legend()\n",
    "plt.show()\n",
    "\n",
    "# Plot the training and validation accuracy curves\n",
    "plt.plot(acc, label='Training accuracy')\n",
    "plt.plot(val_acc, label='Validation accuracy')\n",
    "plt.xlabel('Epoch')\n",
    "plt.ylabel('Accuracy')\n",
    "plt.legend()\n",
    "plt.show()"
   ]
  },
  {
   "cell_type": "code",
   "execution_count": 7,
   "id": "e2aeaad9",
   "metadata": {},
   "outputs": [
    {
     "name": "stdout",
     "output_type": "stream",
     "text": [
      "Loaded model from disk\n",
      "Found 7178 images belonging to 7 classes.\n"
     ]
    },
    {
     "name": "stderr",
     "output_type": "stream",
     "text": [
      "C:\\Users\\dhruv\\AppData\\Local\\Temp\\ipykernel_516\\1061149618.py:32: UserWarning: `Model.predict_generator` is deprecated and will be removed in a future version. Please use `Model.predict`, which supports generators.\n",
      "  predictions = emotion_model.predict_generator(test_generator)\n"
     ]
    },
    {
     "name": "stdout",
     "output_type": "stream",
     "text": [
      "-----------------------------------------------------------------\n",
      "[[111  11 116 253 216 144 107]\n",
      " [ 14   0  12  32  25  19   9]\n",
      " [132  13 125 256 223 161 114]\n",
      " [208  16 236 457 381 274 202]\n",
      " [143  14 165 320 263 190 138]\n",
      " [117  10 147 340 290 198 145]\n",
      " [ 77  12 100 234 169 153  86]]\n"
     ]
    },
    {
     "data": {
      "image/png": "[encoded data removed]",
      "text/plain": [
       "<Figure size 640x480 with 2 Axes>"
      ]
     },
     "metadata": {},
     "output_type": "display_data"
    },
    {
     "name": "stdout",
     "output_type": "stream",
     "text": [
      "-----------------------------------------------------------------\n",
      "              precision    recall  f1-score   support\n",
      "\n",
      "           0       0.14      0.12      0.13       958\n",
      "           1       0.00      0.00      0.00       111\n",
      "           2       0.14      0.12      0.13      1024\n",
      "           3       0.24      0.26      0.25      1774\n",
      "           4       0.17      0.21      0.19      1233\n",
      "           5       0.17      0.16      0.17      1247\n",
      "           6       0.11      0.10      0.11       831\n",
      "\n",
      "    accuracy                           0.17      7178\n",
      "   macro avg       0.14      0.14      0.14      7178\n",
      "weighted avg       0.17      0.17      0.17      7178\n",
      "\n"
     ]
    }
   ],
   "source": [
    "\n",
    "import numpy as np\n",
    "from keras.models import model_from_json\n",
    "import matplotlib.pyplot as plt\n",
    "from keras.preprocessing.image import ImageDataGenerator\n",
    "from sklearn.metrics import confusion_matrix, classification_report,ConfusionMatrixDisplay\n",
    "\n",
    "\n",
    "emotion_dict = {0: \"Angry\", 1: \"Disgusted\", 2: \"Fearful\", 3: \"Happy\", 4: \"Neutral\", 5: \"Sad\", 6: \"Surprised\"}\n",
    "\n",
    "# load json and create model\n",
    "json_file = open('local_emoticon_model.json', 'r')\n",
    "loaded_model_json = json_file.read()\n",
    "json_file.close()\n",
    "emotion_model = model_from_json(loaded_model_json)\n",
    "\n",
    "# load weights into new model\n",
    "emotion_model.load_weights(\"local_emoticon_model.h5\")\n",
    "print(\"Loaded model from disk\")\n",
    "\n",
    "# Initialize image data generator with rescaling\n",
    "test_data_gen = ImageDataGenerator(rescale=1./255)\n",
    "\n",
    "# Preprocess all test images\n",
    "test_generator = test_data_gen.flow_from_directory(\n",
    "        'test',\n",
    "        target_size=(48, 48),\n",
    "        batch_size=64,\n",
    "        color_mode=\"grayscale\",\n",
    "        class_mode='categorical')\n",
    "\n",
    "# do prediction on test data\n",
    "predictions = emotion_model.predict_generator(test_generator)\n",
    "\n",
    "# see predictions\n",
    "# for result in predictions:\n",
    "#     max_index = int(np.argmax(result))\n",
    "#     print(emotion_dict[max_index])\n",
    "\n",
    "print(\"-----------------------------------------------------------------\")\n",
    "# confusion matrix\n",
    "c_matrix = confusion_matrix(test_generator.classes, predictions.argmax(axis=1))\n",
    "print(c_matrix)\n",
    "cm_display = ConfusionMatrixDisplay(confusion_matrix=c_matrix, display_labels=emotion_dict)\n",
    "cm_display.plot(cmap=plt.cm.Blues)\n",
    "plt.show()\n",
    "\n",
    "# Classification report\n",
    "print(\"-----------------------------------------------------------------\")\n",
    "print(classification_report(test_generator.classes, predictions.argmax(axis=1)))"
   ]
  },
  {
   "cell_type": "code",
   "execution_count": 2,
   "id": "b97cdfe9",
   "metadata": {},
   "outputs": [
    {
     "name": "stdout",
     "output_type": "stream",
     "text": [
      "Collecting scikit-learn\n",
      "  Downloading scikit_learn-1.2.2-cp310-cp310-win_amd64.whl (8.3 MB)\n",
      "     ---------------------------------------- 0.0/8.3 MB ? eta -:--:--\n",
      "     ---------------------------------------- 0.1/8.3 MB 1.6 MB/s eta 0:00:06\n",
      "      --------------------------------------- 0.2/8.3 MB 2.1 MB/s eta 0:00:04\n",
      "     - -------------------------------------- 0.4/8.3 MB 2.9 MB/s eta 0:00:03\n",
      "     -- ------------------------------------- 0.6/8.3 MB 3.2 MB/s eta 0:00:03\n",
      "     --- ------------------------------------ 0.7/8.3 MB 3.4 MB/s eta 0:00:03\n",
      "     ---- ----------------------------------- 1.0/8.3 MB 3.5 MB/s eta 0:00:03\n",
      "     ----- ---------------------------------- 1.2/8.3 MB 3.7 MB/s eta 0:00:02\n",
      "     ------ --------------------------------- 1.4/8.3 MB 3.8 MB/s eta 0:00:02\n",
      "     ------- -------------------------------- 1.5/8.3 MB 3.6 MB/s eta 0:00:02\n",
      "     -------- ------------------------------- 1.7/8.3 MB 3.7 MB/s eta 0:00:02\n",
      "     --------- ------------------------------ 2.0/8.3 MB 3.8 MB/s eta 0:00:02\n",
      "     ---------- ----------------------------- 2.2/8.3 MB 3.8 MB/s eta 0:00:02\n",
      "     ----------- ---------------------------- 2.4/8.3 MB 3.9 MB/s eta 0:00:02\n",
      "     ------------ --------------------------- 2.6/8.3 MB 3.9 MB/s eta 0:00:02\n",
      "     ------------- -------------------------- 2.8/8.3 MB 4.0 MB/s eta 0:00:02\n",
      "     -------------- ------------------------- 3.1/8.3 MB 4.1 MB/s eta 0:00:02\n",
      "     ---------------- ----------------------- 3.4/8.3 MB 4.3 MB/s eta 0:00:02\n",
      "     ----------------- ---------------------- 3.6/8.3 MB 4.3 MB/s eta 0:00:02\n",
      "     ------------------ --------------------- 3.9/8.3 MB 4.3 MB/s eta 0:00:02\n",
      "     ------------------- -------------------- 4.0/8.3 MB 4.3 MB/s eta 0:00:02\n",
      "     -------------------- ------------------- 4.3/8.3 MB 4.3 MB/s eta 0:00:01\n",
      "     --------------------- ------------------ 4.4/8.3 MB 4.3 MB/s eta 0:00:01\n",
      "     --------------------- ------------------ 4.5/8.3 MB 4.2 MB/s eta 0:00:01\n",
      "     ---------------------- ----------------- 4.7/8.3 MB 4.1 MB/s eta 0:00:01\n",
      "     ----------------------- ---------------- 5.0/8.3 MB 4.2 MB/s eta 0:00:01\n",
      "     ------------------------ --------------- 5.1/8.3 MB 4.2 MB/s eta 0:00:01\n",
      "     ------------------------- -------------- 5.2/8.3 MB 4.1 MB/s eta 0:00:01\n",
      "     -------------------------- ------------- 5.4/8.3 MB 4.1 MB/s eta 0:00:01\n",
      "     -------------------------- ------------- 5.6/8.3 MB 4.1 MB/s eta 0:00:01\n",
      "     --------------------------- ------------ 5.7/8.3 MB 4.0 MB/s eta 0:00:01\n",
      "     --------------------------- ------------ 5.7/8.3 MB 3.9 MB/s eta 0:00:01\n",
      "     ---------------------------- ----------- 5.9/8.3 MB 3.9 MB/s eta 0:00:01\n",
      "     ----------------------------- ---------- 6.1/8.3 MB 3.9 MB/s eta 0:00:01\n",
      "     ------------------------------ --------- 6.3/8.3 MB 4.0 MB/s eta 0:00:01\n",
      "     ------------------------------ --------- 6.4/8.3 MB 3.9 MB/s eta 0:00:01\n",
      "     ------------------------------- -------- 6.5/8.3 MB 3.9 MB/s eta 0:00:01\n",
      "     -------------------------------- ------- 6.7/8.3 MB 3.9 MB/s eta 0:00:01\n",
      "     --------------------------------- ------ 7.0/8.3 MB 3.9 MB/s eta 0:00:01\n",
      "     ---------------------------------- ----- 7.2/8.3 MB 3.9 MB/s eta 0:00:01\n",
      "     ----------------------------------- ---- 7.4/8.3 MB 4.0 MB/s eta 0:00:01\n",
      "     ------------------------------------ --- 7.7/8.3 MB 4.0 MB/s eta 0:00:01\n",
      "     ------------------------------------- -- 7.9/8.3 MB 4.0 MB/s eta 0:00:01\n",
      "     -------------------------------------- - 8.0/8.3 MB 4.0 MB/s eta 0:00:01\n",
      "     ---------------------------------------  8.2/8.3 MB 4.0 MB/s eta 0:00:01\n",
      "     ---------------------------------------  8.3/8.3 MB 3.9 MB/s eta 0:00:01\n",
      "     ---------------------------------------- 8.3/8.3 MB 3.8 MB/s eta 0:00:00\n",
      "Requirement already satisfied: numpy>=1.17.3 in c:\\users\\dhruv\\miniconda3\\lib\\site-packages (from scikit-learn) (1.23.5)\n",
      "Requirement already satisfied: scipy>=1.3.2 in c:\\users\\dhruv\\miniconda3\\lib\\site-packages (from scikit-learn) (1.10.1)\n",
      "Collecting threadpoolctl>=2.0.0\n",
      "  Downloading threadpoolctl-3.1.0-py3-none-any.whl (14 kB)\n",
      "Collecting joblib>=1.1.1\n",
      "  Downloading joblib-1.2.0-py3-none-any.whl (297 kB)\n",
      "     ---------------------------------------- 0.0/298.0 kB ? eta -:--:--\n",
      "     -------------------------------- ----- 256.0/298.0 kB 5.3 MB/s eta 0:00:01\n",
      "     -------------------------------------- 298.0/298.0 kB 4.6 MB/s eta 0:00:00\n",
      "Installing collected packages: threadpoolctl, joblib, scikit-learn\n",
      "Successfully installed joblib-1.2.0 scikit-learn-1.2.2 threadpoolctl-3.1.0\n"
     ]
    }
   ],
   "source": [
    "!pip install -U scikit-learn"
   ]
  },
  {
   "cell_type": "code",
   "execution_count": null,
   "id": "76dcd6c1",
   "metadata": {},
   "outputs": [],
   "source": []
  }
 ],
 "metadata": {
  "kernelspec": {
   "display_name": "yolo(tensoflow)",
   "language": "python",
   "name": "yolo"
  },
  "language_info": {
   "codemirror_mode": {
    "name": "ipython",
    "version": 3
   },
   "file_extension": ".py",
   "mimetype": "text/x-python",
   "name": "python",
   "nbconvert_exporter": "python",
   "pygments_lexer": "ipython3",
   "version": "3.10.9"
  }
 },
 "nbformat": 4,
 "nbformat_minor": 5
}
